{
 "cells": [
  {
   "cell_type": "code",
   "execution_count": 1,
   "metadata": {},
   "outputs": [
    {
     "name": "stdout",
     "output_type": "stream",
     "text": [
      "Hello! How can I help you today?\n",
      "Chatbot: I'm sorry, I don't understand that. Could you ask something else?\n",
      "Chatbot: Goodbye!\n"
     ]
    }
   ],
   "source": [
    "import random\n",
    "\n",
    "def greet():\n",
    "    return \"Hello! How can I help you today?\"\n",
    "\n",
    "def respond_to_query(user_input):\n",
    "    user_input = user_input.lower()  # Convert input to lowercase for consistency\n",
    "\n",
    "    # Define some basic responses\n",
    "    responses = {\n",
    "        \"hi\": \"Hello!\",\n",
    "        \"hello\": \"Hi there!\",\n",
    "        \"how are you\": \"I'm doing great, thanks for asking!\",\n",
    "        \"bye\": \"Goodbye! Have a great day!\",\n",
    "        \"help\": \"Sure! What do you need help with?\"\n",
    "    }\n",
    "\n",
    "    # Try to match the user input with a response\n",
    "    for query in responses:\n",
    "        if query in user_input:\n",
    "            return responses[query]\n",
    "\n",
    "    # If no match is found, return a default response\n",
    "    return \"I'm sorry, I don't understand that. Could you ask something else?\"\n",
    "\n",
    "def chatbot():\n",
    "    print(greet())  # Greet the user\n",
    "\n",
    "    while True:\n",
    "        user_input = input(\"You: \")  # Get input from the user\n",
    "\n",
    "        # Exit if the user says 'bye'\n",
    "        if \"bye\" in user_input.lower():\n",
    "            print(\"Chatbot: Goodbye!\")\n",
    "            break\n",
    "\n",
    "        # Respond based on the input\n",
    "        response = respond_to_query(user_input)\n",
    "        print(f\"Chatbot: {response}\")\n",
    "\n",
    "if __name__ == \"__main__\":\n",
    "    chatbot()"
   ]
  }
 ],
 "metadata": {
  "kernelspec": {
   "display_name": "Python 3",
   "language": "python",
   "name": "python3"
  },
  "language_info": {
   "codemirror_mode": {
    "name": "ipython",
    "version": 3
   },
   "file_extension": ".py",
   "mimetype": "text/x-python",
   "name": "python",
   "nbconvert_exporter": "python",
   "pygments_lexer": "ipython3",
   "version": "3.10.7"
  }
 },
 "nbformat": 4,
 "nbformat_minor": 2
}
